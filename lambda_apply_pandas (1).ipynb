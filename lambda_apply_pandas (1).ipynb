{
 "cells": [
  {
   "cell_type": "markdown",
   "id": "b532efc0",
   "metadata": {},
   "source": [
    "# Ejemplo aplicación lambda function, apply() y DataFrame\n",
    "\n",
    "Ver tutorial https://www.analyticsvidhya.com/blog/2021/10/lambda-function-a-better-understanding/"
   ]
  },
  {
   "cell_type": "code",
   "execution_count": 1,
   "id": "73f753d2",
   "metadata": {},
   "outputs": [
    {
     "data": {
      "text/html": [
       "<div>\n",
       "<style scoped>\n",
       "    .dataframe tbody tr th:only-of-type {\n",
       "        vertical-align: middle;\n",
       "    }\n",
       "\n",
       "    .dataframe tbody tr th {\n",
       "        vertical-align: top;\n",
       "    }\n",
       "\n",
       "    .dataframe thead th {\n",
       "        text-align: right;\n",
       "    }\n",
       "</style>\n",
       "<table border=\"1\" class=\"dataframe\">\n",
       "  <thead>\n",
       "    <tr style=\"text-align: right;\">\n",
       "      <th></th>\n",
       "      <th>S.No</th>\n",
       "      <th>name</th>\n",
       "      <th>expert</th>\n",
       "      <th>income</th>\n",
       "      <th>place</th>\n",
       "      <th>Experience</th>\n",
       "    </tr>\n",
       "  </thead>\n",
       "  <tbody>\n",
       "    <tr>\n",
       "      <th>0</th>\n",
       "      <td>1</td>\n",
       "      <td>Anand</td>\n",
       "      <td>ML</td>\n",
       "      <td>45000</td>\n",
       "      <td>Cheyyar</td>\n",
       "      <td>3</td>\n",
       "    </tr>\n",
       "    <tr>\n",
       "      <th>1</th>\n",
       "      <td>2</td>\n",
       "      <td>Ramesh</td>\n",
       "      <td>DS</td>\n",
       "      <td>50000</td>\n",
       "      <td>Chennai</td>\n",
       "      <td>2</td>\n",
       "    </tr>\n",
       "    <tr>\n",
       "      <th>2</th>\n",
       "      <td>3</td>\n",
       "      <td>Surya</td>\n",
       "      <td>Network</td>\n",
       "      <td>75000</td>\n",
       "      <td>Bangalore</td>\n",
       "      <td>10</td>\n",
       "    </tr>\n",
       "    <tr>\n",
       "      <th>3</th>\n",
       "      <td>4</td>\n",
       "      <td>Dinesh</td>\n",
       "      <td>Banking</td>\n",
       "      <td>80000</td>\n",
       "      <td>Malaysia</td>\n",
       "      <td>9</td>\n",
       "    </tr>\n",
       "    <tr>\n",
       "      <th>4</th>\n",
       "      <td>5</td>\n",
       "      <td>Dhamu</td>\n",
       "      <td>Electronics</td>\n",
       "      <td>85000</td>\n",
       "      <td>Cheannai</td>\n",
       "      <td>5</td>\n",
       "    </tr>\n",
       "  </tbody>\n",
       "</table>\n",
       "</div>"
      ],
      "text/plain": [
       "   S.No    name       expert  income      place  Experience\n",
       "0     1   Anand           ML   45000    Cheyyar           3\n",
       "1     2  Ramesh           DS   50000    Chennai           2\n",
       "2     3   Surya      Network   75000  Bangalore          10\n",
       "3     4  Dinesh      Banking   80000   Malaysia           9\n",
       "4     5   Dhamu  Electronics   85000   Cheannai           5"
      ]
     },
     "execution_count": 1,
     "metadata": {},
     "output_type": "execute_result"
    }
   ],
   "source": [
    "#importing libraries\n",
    "import pandas as pd\n",
    "#creating dataframe\n",
    "data = pd.DataFrame({\n",
    "    'S.No':[1,2,3,4,5],\n",
    "    'name':['Anand','Ramesh','Surya','Dinesh','Dhamu'],\n",
    "    'expert':['ML','DS','Network','Banking','Electronics'],\n",
    "    'income':[45000,50000,75000,80000,85000],\n",
    "    'place':['Cheyyar','Chennai','Bangalore','Malaysia','Cheannai'],\n",
    "    'Experience':[3,2,10,9,5]\n",
    "})\n",
    "data"
   ]
  },
  {
   "cell_type": "code",
   "execution_count": 2,
   "id": "1f918efa",
   "metadata": {},
   "outputs": [
    {
     "data": {
      "text/html": [
       "<div>\n",
       "<style scoped>\n",
       "    .dataframe tbody tr th:only-of-type {\n",
       "        vertical-align: middle;\n",
       "    }\n",
       "\n",
       "    .dataframe tbody tr th {\n",
       "        vertical-align: top;\n",
       "    }\n",
       "\n",
       "    .dataframe thead th {\n",
       "        text-align: right;\n",
       "    }\n",
       "</style>\n",
       "<table border=\"1\" class=\"dataframe\">\n",
       "  <thead>\n",
       "    <tr style=\"text-align: right;\">\n",
       "      <th></th>\n",
       "      <th>S.No</th>\n",
       "      <th>name</th>\n",
       "      <th>expert</th>\n",
       "      <th>income</th>\n",
       "      <th>place</th>\n",
       "      <th>Experience</th>\n",
       "    </tr>\n",
       "  </thead>\n",
       "  <tbody>\n",
       "    <tr>\n",
       "      <th>0</th>\n",
       "      <td>1</td>\n",
       "      <td>Anand</td>\n",
       "      <td>ML</td>\n",
       "      <td>50500</td>\n",
       "      <td>Cheyyar</td>\n",
       "      <td>3</td>\n",
       "    </tr>\n",
       "    <tr>\n",
       "      <th>1</th>\n",
       "      <td>2</td>\n",
       "      <td>Ramesh</td>\n",
       "      <td>DS</td>\n",
       "      <td>55500</td>\n",
       "      <td>Chennai</td>\n",
       "      <td>2</td>\n",
       "    </tr>\n",
       "    <tr>\n",
       "      <th>2</th>\n",
       "      <td>3</td>\n",
       "      <td>Surya</td>\n",
       "      <td>Network</td>\n",
       "      <td>80500</td>\n",
       "      <td>Bangalore</td>\n",
       "      <td>10</td>\n",
       "    </tr>\n",
       "    <tr>\n",
       "      <th>3</th>\n",
       "      <td>4</td>\n",
       "      <td>Dinesh</td>\n",
       "      <td>Banking</td>\n",
       "      <td>85500</td>\n",
       "      <td>Malaysia</td>\n",
       "      <td>9</td>\n",
       "    </tr>\n",
       "    <tr>\n",
       "      <th>4</th>\n",
       "      <td>5</td>\n",
       "      <td>Dhamu</td>\n",
       "      <td>Electronics</td>\n",
       "      <td>90500</td>\n",
       "      <td>Cheannai</td>\n",
       "      <td>5</td>\n",
       "    </tr>\n",
       "  </tbody>\n",
       "</table>\n",
       "</div>"
      ],
      "text/plain": [
       "   S.No    name       expert  income      place  Experience\n",
       "0     1   Anand           ML   50500    Cheyyar           3\n",
       "1     2  Ramesh           DS   55500    Chennai           2\n",
       "2     3   Surya      Network   80500  Bangalore          10\n",
       "3     4  Dinesh      Banking   85500   Malaysia           9\n",
       "4     5   Dhamu  Electronics   90500   Cheannai           5"
      ]
     },
     "execution_count": 2,
     "metadata": {},
     "output_type": "execute_result"
    }
   ],
   "source": [
    "data['income'] = data.apply(lambda i: i['income']+5500, axis=1)\n",
    "data"
   ]
  },
  {
   "cell_type": "code",
   "execution_count": 3,
   "id": "1a6c076a",
   "metadata": {},
   "outputs": [
    {
     "data": {
      "text/plain": [
       "[10, 9]"
      ]
     },
     "execution_count": 3,
     "metadata": {},
     "output_type": "execute_result"
    }
   ],
   "source": [
    "#filter function for segregation from the dataframe\n",
    "list(filter(lambda i: i>5, data['Experience']))\n",
    "[10, 9]"
   ]
  },
  {
   "cell_type": "code",
   "execution_count": 4,
   "id": "27d1d54a",
   "metadata": {},
   "outputs": [
    {
     "data": {
      "text/html": [
       "<div>\n",
       "<style scoped>\n",
       "    .dataframe tbody tr th:only-of-type {\n",
       "        vertical-align: middle;\n",
       "    }\n",
       "\n",
       "    .dataframe tbody tr th {\n",
       "        vertical-align: top;\n",
       "    }\n",
       "\n",
       "    .dataframe thead th {\n",
       "        text-align: right;\n",
       "    }\n",
       "</style>\n",
       "<table border=\"1\" class=\"dataframe\">\n",
       "  <thead>\n",
       "    <tr style=\"text-align: right;\">\n",
       "      <th></th>\n",
       "      <th>S.No</th>\n",
       "      <th>name</th>\n",
       "      <th>expert</th>\n",
       "      <th>income</th>\n",
       "      <th>place</th>\n",
       "      <th>Experience</th>\n",
       "    </tr>\n",
       "  </thead>\n",
       "  <tbody>\n",
       "    <tr>\n",
       "      <th>0</th>\n",
       "      <td>1</td>\n",
       "      <td>Anand</td>\n",
       "      <td>ML</td>\n",
       "      <td>58075</td>\n",
       "      <td>Cheyyar</td>\n",
       "      <td>3</td>\n",
       "    </tr>\n",
       "    <tr>\n",
       "      <th>1</th>\n",
       "      <td>2</td>\n",
       "      <td>Ramesh</td>\n",
       "      <td>DS</td>\n",
       "      <td>63825</td>\n",
       "      <td>Chennai</td>\n",
       "      <td>2</td>\n",
       "    </tr>\n",
       "    <tr>\n",
       "      <th>2</th>\n",
       "      <td>3</td>\n",
       "      <td>Surya</td>\n",
       "      <td>Network</td>\n",
       "      <td>92575</td>\n",
       "      <td>Bangalore</td>\n",
       "      <td>10</td>\n",
       "    </tr>\n",
       "    <tr>\n",
       "      <th>3</th>\n",
       "      <td>4</td>\n",
       "      <td>Dinesh</td>\n",
       "      <td>Banking</td>\n",
       "      <td>98325</td>\n",
       "      <td>Malaysia</td>\n",
       "      <td>9</td>\n",
       "    </tr>\n",
       "    <tr>\n",
       "      <th>4</th>\n",
       "      <td>5</td>\n",
       "      <td>Dhamu</td>\n",
       "      <td>Electronics</td>\n",
       "      <td>104075</td>\n",
       "      <td>Cheannai</td>\n",
       "      <td>5</td>\n",
       "    </tr>\n",
       "  </tbody>\n",
       "</table>\n",
       "</div>"
      ],
      "text/plain": [
       "   S.No    name       expert  income      place  Experience\n",
       "0     1   Anand           ML   58075    Cheyyar           3\n",
       "1     2  Ramesh           DS   63825    Chennai           2\n",
       "2     3   Surya      Network   92575  Bangalore          10\n",
       "3     4  Dinesh      Banking   98325   Malaysia           9\n",
       "4     5   Dhamu  Electronics  104075   Cheannai           5"
      ]
     },
     "execution_count": 4,
     "metadata": {},
     "output_type": "execute_result"
    }
   ],
   "source": [
    "#map() function\n",
    "data['income']=list(map(lambda i: int(i+i*0.15),data['income']))\n",
    "data"
   ]
  },
  {
   "cell_type": "code",
   "execution_count": 5,
   "id": "c4294abc",
   "metadata": {},
   "outputs": [
    {
     "data": {
      "text/plain": [
       "479404"
      ]
     },
     "execution_count": 5,
     "metadata": {},
     "output_type": "execute_result"
    }
   ],
   "source": [
    "import functools\n",
    "functools.reduce(lambda a,b: a+b,data['income'])\n",
    "479404"
   ]
  },
  {
   "cell_type": "code",
   "execution_count": 7,
   "id": "dd95c36b",
   "metadata": {},
   "outputs": [
    {
     "data": {
      "text/html": [
       "<div>\n",
       "<style scoped>\n",
       "    .dataframe tbody tr th:only-of-type {\n",
       "        vertical-align: middle;\n",
       "    }\n",
       "\n",
       "    .dataframe tbody tr th {\n",
       "        vertical-align: top;\n",
       "    }\n",
       "\n",
       "    .dataframe thead th {\n",
       "        text-align: right;\n",
       "    }\n",
       "</style>\n",
       "<table border=\"1\" class=\"dataframe\">\n",
       "  <thead>\n",
       "    <tr style=\"text-align: right;\">\n",
       "      <th></th>\n",
       "      <th>S.No</th>\n",
       "      <th>name</th>\n",
       "      <th>expert</th>\n",
       "      <th>income</th>\n",
       "      <th>place</th>\n",
       "      <th>Experience</th>\n",
       "      <th>category</th>\n",
       "    </tr>\n",
       "  </thead>\n",
       "  <tbody>\n",
       "    <tr>\n",
       "      <th>0</th>\n",
       "      <td>1</td>\n",
       "      <td>Anand</td>\n",
       "      <td>ML</td>\n",
       "      <td>58075</td>\n",
       "      <td>Cheyyar</td>\n",
       "      <td>3</td>\n",
       "      <td>Begineer</td>\n",
       "    </tr>\n",
       "    <tr>\n",
       "      <th>1</th>\n",
       "      <td>2</td>\n",
       "      <td>Ramesh</td>\n",
       "      <td>DS</td>\n",
       "      <td>63825</td>\n",
       "      <td>Chennai</td>\n",
       "      <td>2</td>\n",
       "      <td>Begineer</td>\n",
       "    </tr>\n",
       "    <tr>\n",
       "      <th>2</th>\n",
       "      <td>3</td>\n",
       "      <td>Surya</td>\n",
       "      <td>Network</td>\n",
       "      <td>92575</td>\n",
       "      <td>Bangalore</td>\n",
       "      <td>10</td>\n",
       "      <td>Expert level</td>\n",
       "    </tr>\n",
       "    <tr>\n",
       "      <th>3</th>\n",
       "      <td>4</td>\n",
       "      <td>Dinesh</td>\n",
       "      <td>Banking</td>\n",
       "      <td>98325</td>\n",
       "      <td>Malaysia</td>\n",
       "      <td>9</td>\n",
       "      <td>Expert level</td>\n",
       "    </tr>\n",
       "    <tr>\n",
       "      <th>4</th>\n",
       "      <td>5</td>\n",
       "      <td>Dhamu</td>\n",
       "      <td>Electronics</td>\n",
       "      <td>104075</td>\n",
       "      <td>Cheannai</td>\n",
       "      <td>5</td>\n",
       "      <td>Expert level</td>\n",
       "    </tr>\n",
       "  </tbody>\n",
       "</table>\n",
       "</div>"
      ],
      "text/plain": [
       "   S.No    name       expert  income      place  Experience      category\n",
       "0     1   Anand           ML   58075    Cheyyar           3      Begineer\n",
       "1     2  Ramesh           DS   63825    Chennai           2      Begineer\n",
       "2     3   Surya      Network   92575  Bangalore          10  Expert level\n",
       "3     4  Dinesh      Banking   98325   Malaysia           9  Expert level\n",
       "4     5   Dhamu  Electronics  104075   Cheannai           5  Expert level"
      ]
     },
     "execution_count": 7,
     "metadata": {},
     "output_type": "execute_result"
    }
   ],
   "source": [
    "data['category']=data['Experience'].apply(lambda x: 'Expert level' if\n",
    "  x>=5 else 'Begineer')\n",
    "data"
   ]
  },
  {
   "cell_type": "code",
   "execution_count": 10,
   "id": "e224e442",
   "metadata": {},
   "outputs": [
    {
     "name": "stdout",
     "output_type": "stream",
     "text": [
      "12\n"
     ]
    }
   ],
   "source": [
    "#lambda in user defined \n",
    "def ads(x):\n",
    "    return(lambda y:x+y)\n",
    "\n",
    "a = ads(4)\n",
    "print(a(8))\n"
   ]
  },
  {
   "cell_type": "code",
   "execution_count": null,
   "id": "f4b787e8",
   "metadata": {},
   "outputs": [],
   "source": []
  }
 ],
 "metadata": {
  "kernelspec": {
   "display_name": "Python 3 (ipykernel)",
   "language": "python",
   "name": "python3"
  },
  "language_info": {
   "codemirror_mode": {
    "name": "ipython",
    "version": 3
   },
   "file_extension": ".py",
   "mimetype": "text/x-python",
   "name": "python",
   "nbconvert_exporter": "python",
   "pygments_lexer": "ipython3",
   "version": "3.9.13"
  }
 },
 "nbformat": 4,
 "nbformat_minor": 5
}
